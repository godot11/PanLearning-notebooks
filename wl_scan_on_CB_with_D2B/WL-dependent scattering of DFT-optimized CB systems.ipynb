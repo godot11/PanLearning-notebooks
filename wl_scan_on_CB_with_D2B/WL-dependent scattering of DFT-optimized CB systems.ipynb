{
 "cells": [
  {
   "cell_type": "markdown",
   "metadata": {},
   "source": [
    "# Combining DFT and McStas: Powder diffraction analysis over a range of wavelengths on a DFT-optimized structure, using McStas.\n",
    "\n",
    "Gergely Nagy (ELI-ALPS), Mads Bersten (ESS - ERIC), Mousumi Upadhyay Kahaly (ELI-ALPS) (mousumi.upadhyaykahaly@eli-alps.hu)\n",
    "\n",
    "### Requirements:\n",
    "- a working [McStas](https://www.mcstas.org) 2.7+ installation (instructions: https://github.com/McStasMcXtrace/McCode/blob/master/INSTALL-McStas-2.x/README.md)\n",
    "- McStasScript (https://github.com/PaNOSC-ViNYL/McStasScript)\n",
    "- Common scientific Python modules: Numpy, Matplotlib...\n",
    "\n",
    "In this notebook, we follow through the steps of performing the simulation of a powder diffraction experiment over a range of neutron wavelengths using the [D2B instrument](https://www.ill.eu/users/instruments/instruments-list/d2b/description/instrument-layout) located in ILL. "
   ]
  },
  {
   "cell_type": "code",
   "execution_count": null,
   "metadata": {},
   "outputs": [],
   "source": [
    "import os"
   ]
  },
  {
   "cell_type": "code",
   "execution_count": null,
   "metadata": {},
   "outputs": [],
   "source": [
    "import mmap\n",
    "from timeit import default_timer as timer\n",
    "\n",
    "import numpy as np\n",
    "from matplotlib import pyplot as plt\n",
    "from mcstasscript.interface import reader, functions, instr, plotter\n",
    "from mcstasscript.interface.functions import load_data\n",
    "from datetime import timedelta"
   ]
  },
  {
   "cell_type": "markdown",
   "metadata": {},
   "source": [
    "## Generate instrument file\n",
    "First we have to generate a McStasScript Python module of the McStas instrument, if we haven't do this before:"
   ]
  },
  {
   "cell_type": "code",
   "execution_count": null,
   "metadata": {},
   "outputs": [],
   "source": [
    "Reader = reader.McStas_file(\"ILL_D2B.instr\")\n",
    "try:\n",
    "  Reader.write_python_file(\"ILL_D2B.py\")\n",
    "except ValueError as e:\n",
    "  print(\"The instrument's Python module already exists, so it is left untouched.\")"
   ]
  },
  {
   "cell_type": "code",
   "execution_count": null,
   "metadata": {},
   "outputs": [],
   "source": [
    "from ILL_D2B import ILL_D2B as instrument"
   ]
  },
  {
   "cell_type": "markdown",
   "metadata": {},
   "source": [
    "If we want, we can take a look at the instrument itself:"
   ]
  },
  {
   "cell_type": "code",
   "execution_count": null,
   "metadata": {},
   "outputs": [],
   "source": [
    "SHOW_INSTRUMENT = False\n",
    "if SHOW_INSTRUMENT:\n",
    "    instrument.show_instrument()"
   ]
  },
  {
   "cell_type": "markdown",
   "metadata": {},
   "source": [
    "## Process the structures \n",
    "\n",
    "We can obtain a force- and energy minimized, relaxed structure from DFT calculations conducted with e.g. [Quantum Espresso](https://www.quantum-espresso.org). The corresponding final structure is then should be converted to a CIF file for further processing. \n",
    "\n",
    "In this notebook, we compare a few boron-doped diamond structures:\n",
    "\n",
    "![structures](Structures.png \"The five structures, their Brillouin cell\n",
    "with a k-path suitable for band structure analysis, and the boron-boron\n",
    "distances in C14B2 systems.\")\n",
    "\n",
    "Below we give the path to the CIF files."
   ]
  },
  {
   "cell_type": "code",
   "execution_count": null,
   "metadata": {},
   "outputs": [],
   "source": [
    "crystal_cifs = {\n",
    "    \"c16\": \"cifs/c16.cif\",\n",
    "    \"c15b1\": \"cifs/c15b1.cif\",\n",
    "    \"c14b2a\": \"cifs/c14b2a.cif\",\n",
    "    \"c14b2b\": \"cifs/c14b2b.cif\",\n",
    "    \"c14b2c\": \"cifs/c14b2c.cif\"\n",
    "}"
   ]
  },
  {
   "cell_type": "markdown",
   "metadata": {},
   "source": [
    "We need to get the crystal reflections from these. We use the cif2hkl code developed by E. Farhi, available at https://github.com/farhi/cif2hkl. This code is shipped with McStas by default, but if it's not available, we can download and build it ourselves. The following script does this (gfortran is needed for building)."
   ]
  },
  {
   "cell_type": "code",
   "execution_count": null,
   "metadata": {},
   "outputs": [],
   "source": [
    "%%bash\n",
    "wget -O - https://github.com/farhi/cif2hkl/tarball/master | tar -xz\n",
    "cd farhi-cif2hkl-*\n",
    "make \n",
    "cp cif2hkl ../ && cd .. && rm -rf farhi-cif2hkl-*\n"
   ]
  },
  {
   "cell_type": "markdown",
   "metadata": {},
   "source": [
    "Time to convert the cif files to hkl:"
   ]
  },
  {
   "cell_type": "code",
   "execution_count": null,
   "metadata": {},
   "outputs": [],
   "source": [
    "path_to_cif2hkl = \"./cif2hkl\"\n",
    "hkl_folder = \"./hkl\"\n",
    "crystal_hkls = {}\n",
    "# create hkl folder \n",
    "if not os.path.exists(hkl_folder):\n",
    "    os.makedirs(hkl_folder)\n",
    "for name, cif in crystal_cifs.items():\n",
    "    hkl_fname = os.path.splitext(os.path.basename(cif))[0] + \".hkl\"\n",
    "    hkl_file = os.path.join(hkl_folder, hkl_fname)\n",
    "    if not os.path.exists(hkl_folder):\n",
    "        os.makedirs(hkl_folder)\n",
    "    os.system(f\"{path_to_cif2hkl} --powder -o {hkl_file} {cif}\")\n",
    "    crystal_hkls[name] = hkl_file"
   ]
  },
  {
   "cell_type": "markdown",
   "metadata": {},
   "source": [
    "## Setup\n",
    "\n",
    "Here we give various options for the simulation."
   ]
  },
  {
   "cell_type": "code",
   "execution_count": null,
   "metadata": {},
   "outputs": [],
   "source": [
    "# place of Mcstas output\n",
    "output_folder = \"./results\"\n",
    "\n",
    "# prefix of McStas output folder\n",
    "prefix = \"d2b_test\"\n",
    "\n",
    "# Additional postfix of the output folder (e.g. \"_0\", \"_1\", ...)\n",
    "postfix = \"\"\n",
    "\n",
    "# If True, the simulation is executed (this takes some time). If false, the \n",
    "# results of the previous run at the same location will be loaded instead.\n",
    "run_simulation = True  \n",
    "\n",
    "# The name of the detector in the Mcstas instrument we want to use:\n",
    "instrument_name = \"D2B_BananaTheta\"\n",
    "\n",
    "# Number of mpi threads used to run McStas (this massively impact runtime)\n",
    "mpi = 1\n",
    "\n",
    "# Ray count for the McStas simulation. A greater number will result in\n",
    "# less noise in the results; however, it (roughly) proportionally increases \n",
    "# the runtime. On a test setup with 12 cores, 1e6 takes about 4-5 mins to \n",
    "# finish for each sample and wavelength, but a beautiful result needs at \n",
    "# least 1e7 or preferably even 1e8.\n",
    "ncount = 1e7\n",
    "\n",
    "# Walengths we scan over\n",
    "lambda0s = 1.0, 1.5, 2.0, 2.5\n",
    "\n",
    "# Color list used for the plots\n",
    "colors = [\"royalblue\", \"olivedrab\", \"red\", \"blue\", \"pink\"]"
   ]
  },
  {
   "cell_type": "markdown",
   "metadata": {},
   "source": [
    "These two functions below will parse the HKL files and extract the parameters used by McStas. They will be useful later."
   ]
  },
  {
   "cell_type": "code",
   "execution_count": null,
   "metadata": {},
   "outputs": [],
   "source": [
    "\n",
    "def read_hkl(hkl_file):\n",
    "    \"read physical parameters from HKL files produced by cif2hkl\"\n",
    "    params = [\n",
    "        \"sigma_coh\", \"sigma_inc\", \"sigma_abs\", \"density\", \"weight\", \"Vc\", \n",
    "        \"lattice_a\", \"lattice_b\", \"lattice_c\", \"lattice_aa\", \"lattice_bb\",\n",
    "        \"lattice_cc\",\n",
    "    ]\n",
    "    vals = {}\n",
    "    with open(hkl_file, \"r+b\") as f:\n",
    "        with mmap.mmap(f.fileno(), 0) as mm:\n",
    "            for pm in params:\n",
    "                # find the pm string in the file and seek there\n",
    "                mm.seek(mm.find(pm.encode(\"UTF-8\")))\n",
    "                # read the line, extract the value, and store in dict\n",
    "                vals[pm] = float(mm.readline().strip().split()[1])\n",
    "\n",
    "    return vals\n",
    "def hkl_to_powdern_pms(hkl_file):\n",
    "    \"Parse the hkl file and return a dict with suitable PowderN input parameters.\"\n",
    "    hkl_data = read_hkl(hkl_file)\n",
    "    pms = {\n",
    "        \"Vc\": hkl_data[\"Vc\"],\n",
    "        \"density\": hkl_data[\"density\"],\n",
    "        \"weight\": hkl_data[\"weight\"],\n",
    "        \"sigma_abs\": hkl_data[\"sigma_abs\"],\n",
    "        \"sigma_inc\": hkl_data[\"sigma_inc\"],\n",
    "        \"reflections\": '\"' + hkl_file + '\"',\n",
    "        \"barns\": 1,\n",
    "    }\n",
    "    return pms"
   ]
  },
  {
   "cell_type": "markdown",
   "metadata": {},
   "source": [
    "## Simulation\n",
    "\n",
    "Run the McStas simulation on all samples and wavelengths. This will take some time."
   ]
  },
  {
   "cell_type": "code",
   "execution_count": null,
   "metadata": {},
   "outputs": [],
   "source": [
    "\n",
    "def run_on_sample(sample_name, hkl_file, lambda0, ncount, mpi):\n",
    "    \"Run the instrument on a given crystal powder sample.\"\n",
    "    \n",
    "    # create output folder\n",
    "    if not os.path.exists(output_folder):\n",
    "        os.makedirs(output_folder)\n",
    "    \n",
    "    # read the crystal parameters from the hkl file, and set the Sample component accordingly\n",
    "    pms = hkl_to_powdern_pms(hkl_file)\n",
    "    sample_comp = instrument.get_component(\"Sample\")\n",
    "    sample_comp.set_parameters(pms)\n",
    "    \n",
    "    # execute the simulation\n",
    "    foldername = f\"{output_folder}/{prefix}_{lambda0:.1f}_{sample_name}\"\n",
    "    data = instrument.run_full_instrument(\n",
    "        foldername=foldername,\n",
    "        increment_folder_name=True,\n",
    "        ncount=ncount,\n",
    "        mpi=mpi,\n",
    "        parameters={\n",
    "            \"lambda\": lambda0,\n",
    "            \"RV\": -1,\n",
    "            \"verbose\": 1,\n",
    "            },\n",
    "    )\n",
    "    return data"
   ]
  },
  {
   "cell_type": "code",
   "execution_count": null,
   "metadata": {},
   "outputs": [],
   "source": [
    "if run_simulation:\n",
    "    # execute the simulation for all wavelengths on all samples\n",
    "    results = {}\n",
    "    for i, lambda0 in enumerate(lambda0s):\n",
    "        results[lambda0] = {}\n",
    "        for j, (crys, hkl) in enumerate(crystal_hkls.items()):\n",
    "            print(f\"Running simulation for {crys} ({j+1}/{len(crystal_hkls.keys())}) at wl={lambda0:.2f} ({i+1}/{len(lambda0s)})...\")\n",
    "            start = timer()\n",
    "            data = run_on_sample(crys, hkl, lambda0, ncount, mpi)\n",
    "            end = timer()\n",
    "            results[lambda0][crys] = data\n",
    "            print(\"Simulation for \" + crys + f\" at wl={lambda0:.2f} finished in {timedelta(seconds=end-start)}.\")"
   ]
  },
  {
   "cell_type": "markdown",
   "metadata": {},
   "source": [
    "If we don't run the simulation, read the results of the previous run."
   ]
  },
  {
   "cell_type": "code",
   "execution_count": null,
   "metadata": {},
   "outputs": [],
   "source": [
    "if not run_simulation:\n",
    "    results = {}\n",
    "    for lambda0 in lambda0s:\n",
    "        results[lambda0] = {}\n",
    "        for crys in crystal_hkls.keys():\n",
    "            folder = f\"{output_folder}/{prefix}_{lambda0:.1f}_{crys}{postfix}\"\n",
    "            data = load_data(folder)\n",
    "            print(f\"loaded {crys} @ wl={lambda0:.2f} from {folder}\")\n",
    "            results[lambda0][crys] = data"
   ]
  },
  {
   "cell_type": "markdown",
   "metadata": {},
   "source": [
    "## Plot the results\n",
    "\n",
    "Plot the results on a shared plot for the C16, C15B1 and C14B2a systems, and then for the three C14B2 systems for comparsion, for all wavelengths."
   ]
  },
  {
   "cell_type": "code",
   "execution_count": null,
   "metadata": {},
   "outputs": [],
   "source": [
    "def plot_diffr(crystals_to_plot):\n",
    "    for lambda0 in lambda0s:\n",
    "        fig, ax = plt.subplots(figsize=(11, 5.5))\n",
    "        for i, crys in enumerate(crystals_to_plot):\n",
    "            # read data and metadata from the Mcstas output (we also read some \n",
    "            # metadata that isn't used in this example, but may be useful.\n",
    "            data = results[lambda0][crys]\n",
    "            pattern = functions.name_search(instrument_name, data)\n",
    "            name = pattern.metadata.component_name\n",
    "            xlabel = pattern.metadata.xlabel\n",
    "            ylabel = pattern.metadata.ylabel\n",
    "            xlims = pattern.metadata.limits\n",
    "            intensity = pattern.Intensity\n",
    "            ncount = pattern.Ncount\n",
    "            error = pattern.Error\n",
    "            xvals = pattern.xaxis\n",
    "        \n",
    "            # plot the detected intensity\n",
    "            y = intensity\n",
    "            ax.plot(xvals, y, color=colors[i], label=crys, linewidth=0.8)\n",
    "            ax.fill_between(xvals, y, color=colors[i], alpha=0.1)\n",
    "        \n",
    "        # set log y-scale, labels, etc.\n",
    "        ax.set_xlim(20, 99)\n",
    "        ax.set_ylim(1e-1, 1e3)\n",
    "        ax.set_yscale(\"log\")\n",
    "        ax.set_xlabel(r\"$\\theta$ (deg)\", labelpad=0)\n",
    "        ax.set_ylabel(ylabel)\n",
    "        ax.grid(alpha=0.8, lw=0.5)\n",
    "        fig.suptitle(rf\"Powder diffraction signal for $\\lambda={lambda0:.1f}Å$\")\n",
    "        ax.legend()\n",
    "        plt.show()"
   ]
  },
  {
   "cell_type": "markdown",
   "metadata": {},
   "source": [
    "Plot the resulting diffraction pattern for the three systems that differ in boron concentration:"
   ]
  },
  {
   "cell_type": "code",
   "execution_count": null,
   "metadata": {},
   "outputs": [],
   "source": [
    "plot_diffr(['c16', 'c15b1', 'c14b2a'])"
   ]
  },
  {
   "cell_type": "markdown",
   "metadata": {},
   "source": [
    "Plot for the three possible $C_{14}B_2$ structures:"
   ]
  },
  {
   "cell_type": "code",
   "execution_count": null,
   "metadata": {},
   "outputs": [],
   "source": [
    "\n",
    "plot_diffr(['c14b2a', 'c14b2b', 'c14b2c'])"
   ]
  }
 ],
 "metadata": {
  "interpreter": {
   "hash": "700d66406f4fe75b49c516656c320b25128aa56cb4bed3dad802e21ba89b65fb"
  },
  "kernelspec": {
   "display_name": "Python 3.9.7 64-bit ('mcstas': conda)",
   "language": "python",
   "name": "python3"
  },
  "language_info": {
   "codemirror_mode": {
    "name": "ipython",
    "version": 3
   },
   "file_extension": ".py",
   "mimetype": "text/x-python",
   "name": "python",
   "nbconvert_exporter": "python",
   "pygments_lexer": "ipython3",
   "version": "3.9.9"
  },
  "orig_nbformat": 4
 },
 "nbformat": 4,
 "nbformat_minor": 2
}
